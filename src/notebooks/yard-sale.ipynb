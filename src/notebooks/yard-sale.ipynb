{
 "cells": [
  {
   "cell_type": "markdown",
   "source": [
    "# The yard-sale model in APL"
   ],
   "metadata": {
    "collapsed": false,
    "pycharm": {
     "name": "#%% md\n"
    }
   }
  },
  {
   "cell_type": "markdown",
   "source": [
    "You can read about the background to this model in [The proejct README](../../README.md)\n",
    "\n",
    "This online article](https://pudding.cool/2022/12/ya"
   ],
   "metadata": {
    "collapsed": false,
    "pycharm": {
     "name": "#%% md\n"
    }
   }
  },
  {
   "cell_type": "markdown",
   "source": [
    "Here's the APL code, with an explanation. You can probably follow it even if you are unfamiliar with APL.\n",
    "\n",
    "## Want to try this for yourself?\n",
    "\n",
    "You can run the code using the free, zero install [TryAPL](https://tryapl.org/) service.\n",
    "\n",
    "Click on learn, and enter the url for this notebook."
   ],
   "metadata": {
    "collapsed": false,
    "pycharm": {
     "name": "#%% md\n"
    }
   }
  },
  {
   "cell_type": "code",
   "execution_count": 15,
   "outputs": [],
   "source": [
    "⎕io ← 0 ⍝ we'll start conting from zero as this makes the code simpler"
   ],
   "metadata": {
    "collapsed": false,
    "pycharm": {
     "name": "#%%\n"
    }
   }
  },
  {
   "cell_type": "code",
   "execution_count": 16,
   "outputs": [],
   "source": [
    "size ← 10  ⍝ Start with a population of 10 people."
   ],
   "metadata": {
    "collapsed": false,
    "pycharm": {
     "name": "#%%\n"
    }
   }
  },
  {
   "cell_type": "code",
   "execution_count": 17,
   "outputs": [],
   "source": [
    "npairs ← size ÷ 2 ⍝ The number of pairs is half the total size."
   ],
   "metadata": {
    "collapsed": false,
    "pycharm": {
     "name": "#%%\n"
    }
   }
  },
  {
   "cell_type": "code",
   "execution_count": 18,
   "outputs": [
    {
     "data": {
      "text/html": "<pre class=\"language-APL\">100 100 100 100 100 100 100 100 100 100\n</pre>"
     },
     "execution_count": 18,
     "metadata": {},
     "output_type": "execute_result"
    }
   ],
   "source": [
    "+wealth ← size⍴100 ⍝ Everyone starts with 100 coins. The statement below creates a 10-element array with 100 as each element."
   ],
   "metadata": {
    "collapsed": false,
    "pycharm": {
     "name": "#%%\n"
    }
   }
  },
  {
   "cell_type": "markdown",
   "source": [
    "The next statement creates and displays a set of pairings. Each column contains the indices of the palyes who will play together."
   ],
   "metadata": {
    "collapsed": false,
    "pycharm": {
     "name": "#%% md\n"
    }
   }
  },
  {
   "cell_type": "code",
   "execution_count": 19,
   "id": "b3767634",
   "metadata": {
    "scrolled": true,
    "pycharm": {
     "name": "#%%\n"
    }
   },
   "outputs": [
    {
     "data": {
      "text/html": "<pre class=\"language-APL\">9 2 6 3 5\n8 7 4 0 1\n</pre>"
     },
     "execution_count": 19,
     "metadata": {},
     "output_type": "execute_result"
    }
   ],
   "source": [
    "+pairs ← (2, npairs)⍴size?size ⍝ permute the agents, pair them and siplay the pa"
   ]
  },
  {
   "cell_type": "markdown",
   "source": [
    "Next, let's find out hom much money each member of the pair has. Initilally ths will be 100 for everyone but that will change later."
   ],
   "metadata": {
    "collapsed": false,
    "pycharm": {
     "name": "#%% md\n"
    }
   }
  },
  {
   "cell_type": "code",
   "execution_count": 20,
   "id": "a3656ed0",
   "metadata": {
    "pycharm": {
     "name": "#%%\n"
    }
   },
   "outputs": [
    {
     "data": {
      "text/html": "<pre class=\"language-APL\">100 100 100 100 100\n100 100 100 100 100\n</pre>"
     },
     "execution_count": 20,
     "metadata": {},
     "output_type": "execute_result"
    }
   ],
   "source": [
    "wealth[pairs]"
   ]
  },
  {
   "cell_type": "markdown",
   "source": [
    "This code finds and displays the stakes for each pair by returning the minimum value in each column."
   ],
   "metadata": {
    "collapsed": false,
    "pycharm": {
     "name": "#%% md\n"
    }
   }
  },
  {
   "cell_type": "code",
   "execution_count": 21,
   "id": "ebc5b102",
   "metadata": {
    "pycharm": {
     "name": "#%%\n"
    }
   },
   "outputs": [
    {
     "data": {
      "text/html": "<pre class=\"language-APL\">100 100 100 100 100\n</pre>"
     },
     "execution_count": 21,
     "metadata": {},
     "output_type": "execute_result"
    }
   ],
   "source": [
    "+stakes  ← ⌊⌿wealth[pairs]"
   ]
  },
  {
   "cell_type": "code",
   "execution_count": 22,
   "id": "f0581b9e",
   "metadata": {
    "pycharm": {
     "name": "#%%\n"
    }
   },
   "outputs": [],
   "source": [
    "outcomes ← ¯1 1[?npairs⍴2]"
   ]
  },
  {
   "cell_type": "code",
   "execution_count": 23,
   "id": "8f1a2329",
   "metadata": {
    "pycharm": {
     "name": "#%%\n"
    }
   },
   "outputs": [
    {
     "data": {
      "text/html": "<pre class=\"language-APL\">¯1 1 1 1 ¯1\n</pre>"
     },
     "execution_count": 23,
     "metadata": {},
     "output_type": "execute_result"
    }
   ],
   "source": [
    "outcomes"
   ]
  },
  {
   "cell_type": "code",
   "execution_count": 24,
   "id": "71fa4595",
   "metadata": {
    "pycharm": {
     "name": "#%%\n"
    }
   },
   "outputs": [
    {
     "data": {
      "text/html": "<pre class=\"language-APL\">¯50  50  50  50 ¯50\n 50 ¯50 ¯50 ¯50  50\n</pre>"
     },
     "execution_count": 24,
     "metadata": {},
     "output_type": "execute_result"
    }
   ],
   "source": [
    "+changes ← ⌈ 0.5 × 1 ¯1 ∘.×  outcomes × stakes"
   ]
  },
  {
   "cell_type": "code",
   "execution_count": 25,
   "id": "8281a546",
   "metadata": {
    "pycharm": {
     "name": "#%%\n"
    }
   },
   "outputs": [
    {
     "data": {
      "text/html": "<pre class=\"language-APL\">50 150 150 150 50 50 150 50 150 50\n</pre>"
     },
     "execution_count": 25,
     "metadata": {},
     "output_type": "execute_result"
    }
   ],
   "source": [
    "wealth[pairs] ← wealth[pairs] + changes\n",
    "+wealth"
   ]
  },
  {
   "cell_type": "code",
   "execution_count": 26,
   "id": "f0e476d2",
   "metadata": {
    "pycharm": {
     "name": "#%%\n"
    }
   },
   "outputs": [
    {
     "data": {
      "text/html": "<pre class=\"language-APL\">1000\n</pre>"
     },
     "execution_count": 26,
     "metadata": {},
     "output_type": "execute_result"
    }
   ],
   "source": [
    "+/wealth"
   ]
  },
  {
   "cell_type": "code",
   "execution_count": 31,
   "id": "b241b46f",
   "metadata": {
    "pycharm": {
     "name": "#%%\n"
    }
   },
   "outputs": [],
   "source": [
    "tax ← { ⍺ ← 0.1 ⋄ revenue ← ⍺ × ⍵ ⋄ wealth ← ⍵ - revenue ⋄  wealth + (+/revenue) ÷ ⍴⍵ }"
   ]
  },
  {
   "cell_type": "code",
   "execution_count": 32,
   "outputs": [
    {
     "data": {
      "text/html": "<pre class=\"language-APL\">50 150 150 150 50 50 150 50 150 50\n</pre>"
     },
     "execution_count": 32,
     "metadata": {},
     "output_type": "execute_result"
    }
   ],
   "source": [
    "wealth"
   ],
   "metadata": {
    "collapsed": false,
    "pycharm": {
     "name": "#%%\n"
    }
   }
  },
  {
   "cell_type": "code",
   "execution_count": 33,
   "outputs": [
    {
     "data": {
      "text/html": "<pre class=\"language-APL\">55 145 145 145 55 55 145 55 145 55\n</pre>"
     },
     "execution_count": 33,
     "metadata": {},
     "output_type": "execute_result"
    }
   ],
   "source": [
    "0.1 tax wealth"
   ],
   "metadata": {
    "collapsed": false,
    "pycharm": {
     "name": "#%%\n"
    }
   }
  },
  {
   "cell_type": "code",
   "execution_count": 30,
   "outputs": [],
   "source": [],
   "metadata": {
    "collapsed": false,
    "pycharm": {
     "name": "#%%\n"
    }
   }
  }
 ],
 "metadata": {
  "kernelspec": {
   "display_name": "Dyalog APL",
   "language": "apl",
   "name": "dyalog-kernel"
  },
  "language_info": {
   "file_extension": ".apl",
   "mimetype": "text/apl",
   "name": "APL"
  }
 },
 "nbformat": 4,
 "nbformat_minor": 5
}