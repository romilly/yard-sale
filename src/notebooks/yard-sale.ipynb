{
 "cells": [
  {
   "cell_type": "markdown",
   "id": "803e1290",
   "metadata": {
    "pycharm": {
     "name": "#%% md\n"
    }
   },
   "source": [
    "# The yard-sale model in APL"
   ]
  },
  {
   "cell_type": "markdown",
   "id": "601125cb",
   "metadata": {
    "pycharm": {
     "name": "#%% md\n"
    }
   },
   "source": [
    "You can read about the background to this model in [the project README](../../README.md)\n",
    "\n",
    "Here's the APL code, with an explanation. You can probably follow it even if you are unfamiliar with APL.\n",
    "\n",
    "## Want to try this for yourself?\n",
    "\n",
    "You can run the code using the free, zero install [TryAPL](https://tryapl.org/) service.\n",
    "\n",
    "Click on learn, and enter the url for this notebook."
   ]
  },
  {
   "cell_type": "code",
   "execution_count": 1,
   "id": "07e18213",
   "metadata": {
    "pycharm": {
     "name": "#%%\n"
    }
   },
   "outputs": [],
   "source": [
    "⎕io ← 0 ⍝ we'll start counting from zero as this makes the code simpler"
   ]
  },
  {
   "cell_type": "code",
   "execution_count": 2,
   "id": "b4c50b80",
   "metadata": {
    "pycharm": {
     "name": "#%%\n"
    }
   },
   "outputs": [],
   "source": [
    "size ← 10  ⍝ Start with a population of 10 people."
   ]
  },
  {
   "cell_type": "code",
   "execution_count": 3,
   "id": "f0bb69a2",
   "metadata": {
    "pycharm": {
     "name": "#%%\n"
    }
   },
   "outputs": [],
   "source": [
    "npairs ← size ÷ 2 ⍝ The number of pairs is half the total size."
   ]
  },
  {
   "cell_type": "code",
   "execution_count": 4,
   "id": "30140998",
   "metadata": {
    "pycharm": {
     "name": "#%%\n"
    }
   },
   "outputs": [
    {
     "data": {
      "text/html": "<pre class=\"language-APL\">100 100 100 100 100 100 100 100 100 100\n</pre>"
     },
     "execution_count": 4,
     "metadata": {},
     "output_type": "execute_result"
    }
   ],
   "source": [
    "+wealth ← size⍴100 ⍝ Everyone starts with 100 coins. The statement below creates a 10-element array with 100 as each element."
   ]
  },
  {
   "cell_type": "markdown",
   "id": "62599f63",
   "metadata": {
    "pycharm": {
     "name": "#%% md\n"
    }
   },
   "source": [
    "The next statement creates and displays a set of pairings. Each column contains the indices of the agents who will pair and play together."
   ]
  },
  {
   "cell_type": "code",
   "execution_count": 5,
   "id": "b3767634",
   "metadata": {
    "pycharm": {
     "name": "#%%\n"
    },
    "scrolled": true
   },
   "outputs": [
    {
     "data": {
      "text/html": "<pre class=\"language-APL\">3 0 5 4 1\n8 6 9 2 7\n</pre>"
     },
     "execution_count": 5,
     "metadata": {},
     "output_type": "execute_result"
    }
   ],
   "source": [
    "+pairs ← (2, npairs)⍴size?size ⍝ permute the agents, pair them and siplay the pa"
   ]
  },
  {
   "cell_type": "markdown",
   "id": "9393d618",
   "metadata": {
    "pycharm": {
     "name": "#%% md\n"
    }
   },
   "source": [
    "Next, let's find out hom much money each member of the pair has. Initilally ths will be 100 for everyone but that will change later."
   ]
  },
  {
   "cell_type": "code",
   "execution_count": 6,
   "id": "a3656ed0",
   "metadata": {
    "pycharm": {
     "name": "#%%\n"
    }
   },
   "outputs": [
    {
     "data": {
      "text/html": "<pre class=\"language-APL\">100 100 100 100 100\n100 100 100 100 100\n</pre>"
     },
     "execution_count": 6,
     "metadata": {},
     "output_type": "execute_result"
    }
   ],
   "source": [
    "wealth[pairs]"
   ]
  },
  {
   "cell_type": "markdown",
   "id": "9c1da3c2",
   "metadata": {
    "pycharm": {
     "name": "#%% md\n"
    }
   },
   "source": [
    "This code finds and displays the stakes for each pair by returning the minimum value in each column."
   ]
  },
  {
   "cell_type": "code",
   "execution_count": 7,
   "id": "ebc5b102",
   "metadata": {
    "pycharm": {
     "name": "#%%\n"
    }
   },
   "outputs": [
    {
     "data": {
      "text/html": "<pre class=\"language-APL\">100 100 100 100 100\n</pre>"
     },
     "execution_count": 7,
     "metadata": {},
     "output_type": "execute_result"
    }
   ],
   "source": [
    "+stakes  ← ⌊⌿wealth[pairs]"
   ]
  },
  {
   "cell_type": "code",
   "execution_count": 8,
   "id": "f0581b9e",
   "metadata": {
    "pycharm": {
     "name": "#%%\n"
    }
   },
   "outputs": [],
   "source": [
    "outcomes ← ¯1 1[?npairs⍴2]"
   ]
  },
  {
   "cell_type": "code",
   "execution_count": 9,
   "id": "8f1a2329",
   "metadata": {
    "pycharm": {
     "name": "#%%\n"
    }
   },
   "outputs": [
    {
     "data": {
      "text/html": "<pre class=\"language-APL\">1 1 1 ¯1 1\n</pre>"
     },
     "execution_count": 9,
     "metadata": {},
     "output_type": "execute_result"
    }
   ],
   "source": [
    "outcomes"
   ]
  },
  {
   "cell_type": "code",
   "execution_count": 10,
   "id": "71fa4595",
   "metadata": {
    "pycharm": {
     "name": "#%%\n"
    }
   },
   "outputs": [
    {
     "data": {
      "text/html": "<pre class=\"language-APL\"> 50  50  50 ¯50  50\n¯50 ¯50 ¯50  50 ¯50\n</pre>"
     },
     "execution_count": 10,
     "metadata": {},
     "output_type": "execute_result"
    }
   ],
   "source": [
    "+changes ← ⌈ 0.5 × 1 ¯1 ∘.×  outcomes × stakes"
   ]
  },
  {
   "cell_type": "code",
   "execution_count": 11,
   "id": "8281a546",
   "metadata": {
    "pycharm": {
     "name": "#%%\n"
    }
   },
   "outputs": [
    {
     "data": {
      "text/html": "<pre class=\"language-APL\">150 150 150 150 50 150 50 50 50 50\n</pre>"
     },
     "execution_count": 11,
     "metadata": {},
     "output_type": "execute_result"
    }
   ],
   "source": [
    "wealth[pairs] ← wealth[pairs] + changes\n",
    "+wealth"
   ]
  },
  {
   "cell_type": "code",
   "execution_count": 12,
   "id": "f0e476d2",
   "metadata": {
    "pycharm": {
     "name": "#%%\n"
    }
   },
   "outputs": [
    {
     "data": {
      "text/html": "<pre class=\"language-APL\">1000\n</pre>"
     },
     "execution_count": 12,
     "metadata": {},
     "output_type": "execute_result"
    }
   ],
   "source": [
    "+/wealth"
   ]
  },
  {
   "cell_type": "code",
   "execution_count": 13,
   "id": "b241b46f",
   "metadata": {
    "pycharm": {
     "name": "#%%\n"
    }
   },
   "outputs": [],
   "source": [
    "tax ← { ⍺ ← 0.1 ⋄ revenue ← ⍺ × ⍵ ⋄ wealth ← ⍵ - revenue ⋄  wealth + (+/revenue) ÷ ⍴⍵ }"
   ]
  },
  {
   "cell_type": "code",
   "execution_count": 14,
   "id": "94fef060",
   "metadata": {
    "pycharm": {
     "name": "#%%\n"
    }
   },
   "outputs": [
    {
     "data": {
      "text/html": "<pre class=\"language-APL\">150 150 150 150 50 150 50 50 50 50\n</pre>"
     },
     "execution_count": 14,
     "metadata": {},
     "output_type": "execute_result"
    }
   ],
   "source": [
    "wealth"
   ]
  },
  {
   "cell_type": "code",
   "execution_count": 15,
   "id": "8e40a436",
   "metadata": {
    "pycharm": {
     "name": "#%%\n"
    }
   },
   "outputs": [
    {
     "data": {
      "text/html": "<pre class=\"language-APL\">145 145 145 145 55 145 55 55 55 55\n</pre>"
     },
     "execution_count": 15,
     "metadata": {},
     "output_type": "execute_result"
    }
   ],
   "source": [
    "0.1 tax wealth"
   ]
  },
  {
   "cell_type": "markdown",
   "id": "d254158e",
   "metadata": {
    "pycharm": {
     "name": "#%% md\n"
    }
   },
   "source": [
    "Let's define a function simulate_round to implement these steps"
   ]
  },
  {
   "cell_type": "code",
   "execution_count": 16,
   "id": "a739b680",
   "metadata": {
    "pycharm": {
     "name": "#%%\n"
    }
   },
   "outputs": [],
   "source": [
    " ]dinput\n",
    " simulate_round ← {\n",
    " ⎕io ← 0\n",
    " wealth ← ⍵\n",
    " size←⍴wealth\n",
    " npairs←size÷2\n",
    " pairs←(2,npairs)⍴size?size\n",
    " stakes←⌊⌿wealth[pairs]\n",
    " outcomes←¯1 1[?npairs⍴2]\n",
    " changes←0.5×1 ¯1∘.×outcomes×stakes\n",
    " wealth[pairs]←wealth[pairs]+changes\n",
    " wealth\n",
    " }"
   ]
  },
  {
   "cell_type": "markdown",
   "id": "0e58fe0e",
   "metadata": {
    "pycharm": {
     "name": "#%% md\n"
    }
   },
   "source": [
    "We can run 50 rounds of simulation using APL's power operator."
   ]
  },
  {
   "cell_type": "code",
   "execution_count": 17,
   "id": "f0a98570",
   "metadata": {
    "pycharm": {
     "name": "#%%\n"
    }
   },
   "outputs": [
    {
     "data": {
      "text/html": "<pre class=\"language-APL\"> 129.48 658.53 0.01 184.30 1.11 0.05 21.50 0.00 1.15 3.88\n</pre>"
     },
     "execution_count": 17,
     "metadata": {},
     "output_type": "execute_result"
    }
   ],
   "source": [
    "2 ⍕ (simulate_round⍣50) 10⍴100"
   ]
  },
  {
   "cell_type": "markdown",
   "id": "5be5b9b4",
   "metadata": {
    "pycharm": {
     "name": "#%% md\n"
    }
   },
   "source": [
    "As you can see. almost all the wealth has concentrated in the hands of three oligarchs.\n",
    "\n",
    "Let's examine the effects of taxation."
   ]
  },
  {
   "cell_type": "code",
   "execution_count": 18,
   "id": "582a9933",
   "metadata": {
    "pycharm": {
     "name": "#%%\n"
    }
   },
   "outputs": [
    {
     "data": {
      "text/html": "<pre class=\"language-APL\"> 35.15 33.77 98.55 266.80 189.85 38.36 134.44 22.62 119.50 60.96\n</pre>"
     },
     "execution_count": 18,
     "metadata": {},
     "output_type": "execute_result"
    }
   ],
   "source": [
    "2 ⍕ ((tax∘simulate_round)⍣50) 10⍴100"
   ]
  },
  {
   "cell_type": "markdown",
   "id": "b4fcf679",
   "metadata": {
    "pycharm": {
     "name": "#%% md\n"
    }
   },
   "source": [
    "Wealth is much more evenly distributed"
   ]
  },
  {
   "cell_type": "markdown",
   "id": "00ef5a4c",
   "metadata": {
    "pycharm": {
     "name": "#%% md\n"
    }
   },
   "source": []
  }
 ],
 "metadata": {
  "kernelspec": {
   "display_name": "Dyalog APL",
   "language": "apl",
   "name": "dyalog-kernel"
  },
  "language_info": {
   "file_extension": ".apl",
   "mimetype": "text/apl",
   "name": "APL"
  }
 },
 "nbformat": 4,
 "nbformat_minor": 5
}