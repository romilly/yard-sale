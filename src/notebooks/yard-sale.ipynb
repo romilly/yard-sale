{
 "cells": [
  {
   "cell_type": "markdown",
   "source": [
    "# Why the rich prosper"
   ],
   "metadata": {
    "collapsed": false,
    "pycharm": {
     "name": "#%% md\n"
    }
   }
  },
  {
   "cell_type": "markdown",
   "source": [
    "`The rich get richer while the poor get poorer`\n",
    "\n",
    "Is this always true? Could it be a natural law of economics?\n",
    "\n",
    "I recently came across a fascinating exploration.\n",
    "\n",
    "[This online article](https://pudding.cool/2022/12/yard-sale/) got me started, and [this pdf](https://b9370b48-a70c-49e9-88aa-0f98cc0a5df4.filesusr.com/ugd/cb3c27_bf9072f3634e43a0ac01921af71370bc.pdf) is the paper that has all the details."
   ],
   "metadata": {
    "collapsed": false,
    "pycharm": {
     "name": "#%% md\n"
    }
   }
  },
  {
   "cell_type": "markdown",
   "source": [
    "It's based on a simple model which is easy to simulate.\n",
    "\n",
    "## Here's the model.\n",
    "\n",
    "Start with a population in which everyone has the same amount of money.\n",
    "\n",
    "In each round of the game, pairs of people, chosen at random from the population, make a simple gamble. Each member of each pair puts money in a pot. The stakes are limited to half the poorer player's money. Each pair tosses a fair coin to select the winner, who then takes the pot.\n",
    "\n",
    "What happens when this game is played over and over, with random pairings each time?\n",
    "\n",
    "Intuition might suggest that the money will remain fairly evenly distributed. After all the odds of winning a round are 50%.\n",
    "\n",
    "That's not what happens, though. PLay a few ronuds and the wealth starts concetrating. Quite quick;y one player copmes to own the vasdt majority of the wealth.\n",
    "\n",
    "## Why the inequality?\n",
    "\n",
    "The cause is simple. Because ppor players have less to play with, they get less when they win that they previously lost. That's explained in more detail in the articles quited above.\n",
    "\n",
    "## Want to try this for yourself?\n",
    "\n",
    "Here's the APL code, with an explanation. You can probably follow it even if you are unfamiliar with APL.\n",
    "\n",
    "You can run the code using the free, zero install [TryAPL](https://tryapl.org/) service.\n",
    "\n",
    "*If you do know APL, you should be aware that the code assumes ⎕io is set to 0. In other words, we're going to count from zero. This simplifies the code.*\n"
   ],
   "metadata": {
    "collapsed": false,
    "pycharm": {
     "name": "#%% md\n"
    }
   }
  },
  {
   "cell_type": "code",
   "execution_count": 1,
   "outputs": [],
   "source": [
    "⎕io ← 0"
   ],
   "metadata": {
    "collapsed": false,
    "pycharm": {
     "name": "#%%\n"
    }
   }
  },
  {
   "cell_type": "markdown",
   "source": [
    "Start with a population of 10 people."
   ],
   "metadata": {
    "collapsed": false,
    "pycharm": {
     "name": "#%% md\n"
    }
   }
  },
  {
   "cell_type": "code",
   "execution_count": 2,
   "outputs": [],
   "source": [
    "size ← 10"
   ],
   "metadata": {
    "collapsed": false,
    "pycharm": {
     "name": "#%%\n"
    }
   }
  },
  {
   "cell_type": "markdown",
   "source": [
    "The number of pairs is half the total size."
   ],
   "metadata": {
    "collapsed": false,
    "pycharm": {
     "name": "#%% md\n"
    }
   }
  },
  {
   "cell_type": "code",
   "execution_count": 3,
   "outputs": [],
   "source": [
    "npairs ← size ÷ 2"
   ],
   "metadata": {
    "collapsed": false,
    "pycharm": {
     "name": "#%%\n"
    }
   }
  },
  {
   "cell_type": "markdown",
   "source": [
    "Everyone starts with 100 coins. The statement below creates a 10-element array with 100 as each element."
   ],
   "metadata": {
    "collapsed": false,
    "pycharm": {
     "name": "#%% md\n"
    }
   }
  },
  {
   "cell_type": "code",
   "execution_count": 4,
   "id": "81770198",
   "metadata": {
    "pycharm": {
     "name": "#%%\n"
    }
   },
   "outputs": [
    {
     "data": {
      "text/html": "<pre class=\"language-APL\">100 100 100 100 100 100 100 100 100 100\n</pre>"
     },
     "execution_count": 4,
     "metadata": {},
     "output_type": "execute_result"
    }
   ],
   "source": [
    "+wealth ← size⍴100"
   ]
  },
  {
   "cell_type": "markdown",
   "source": [
    "The next statement creates and displays a set of pairings. Each column contains the indices of the palyes who will play together."
   ],
   "metadata": {
    "collapsed": false,
    "pycharm": {
     "name": "#%% md\n"
    }
   }
  },
  {
   "cell_type": "code",
   "execution_count": 5,
   "id": "b3767634",
   "metadata": {
    "scrolled": true,
    "pycharm": {
     "name": "#%%\n"
    }
   },
   "outputs": [
    {
     "data": {
      "text/html": "<pre class=\"language-APL\">3 0 5 4 1\n8 6 9 2 7\n</pre>"
     },
     "execution_count": 5,
     "metadata": {},
     "output_type": "execute_result"
    }
   ],
   "source": [
    "+pairs ← (2, npairs)⍴size?size"
   ]
  },
  {
   "cell_type": "markdown",
   "source": [
    "Next, let's find out hom much money each member of the pair has. Initilally ths will be 100 for everyone but that will change later."
   ],
   "metadata": {
    "collapsed": false,
    "pycharm": {
     "name": "#%% md\n"
    }
   }
  },
  {
   "cell_type": "code",
   "execution_count": 6,
   "id": "a3656ed0",
   "metadata": {
    "pycharm": {
     "name": "#%%\n"
    }
   },
   "outputs": [
    {
     "data": {
      "text/html": "<pre class=\"language-APL\">100 100 100 100 100\n100 100 100 100 100\n</pre>"
     },
     "execution_count": 6,
     "metadata": {},
     "output_type": "execute_result"
    }
   ],
   "source": [
    "wealth[pairs]"
   ]
  },
  {
   "cell_type": "markdown",
   "source": [
    "This code finds and displays the stakes for each pair by returning the minimum value in each column."
   ],
   "metadata": {
    "collapsed": false,
    "pycharm": {
     "name": "#%% md\n"
    }
   }
  },
  {
   "cell_type": "code",
   "execution_count": 7,
   "id": "ebc5b102",
   "metadata": {
    "pycharm": {
     "name": "#%%\n"
    }
   },
   "outputs": [
    {
     "data": {
      "text/html": "<pre class=\"language-APL\">100 100 100 100 100\n</pre>"
     },
     "execution_count": 7,
     "metadata": {},
     "output_type": "execute_result"
    }
   ],
   "source": [
    "+stakes  ← ⌊⌿wealth[pairs]"
   ]
  },
  {
   "cell_type": "code",
   "execution_count": 8,
   "id": "f0581b9e",
   "metadata": {
    "pycharm": {
     "name": "#%%\n"
    }
   },
   "outputs": [],
   "source": [
    "outcomes ← ¯1 1[?npairs⍴2]"
   ]
  },
  {
   "cell_type": "code",
   "execution_count": 9,
   "id": "8f1a2329",
   "metadata": {
    "pycharm": {
     "name": "#%%\n"
    }
   },
   "outputs": [
    {
     "data": {
      "text/html": "<pre class=\"language-APL\">1 1 1 ¯1 1\n</pre>"
     },
     "execution_count": 9,
     "metadata": {},
     "output_type": "execute_result"
    }
   ],
   "source": [
    "outcomes"
   ]
  },
  {
   "cell_type": "code",
   "execution_count": 10,
   "id": "71fa4595",
   "metadata": {
    "pycharm": {
     "name": "#%%\n"
    }
   },
   "outputs": [
    {
     "data": {
      "text/html": "<pre class=\"language-APL\"> 50  50  50 ¯50  50\n¯50 ¯50 ¯50  50 ¯50\n</pre>"
     },
     "execution_count": 10,
     "metadata": {},
     "output_type": "execute_result"
    }
   ],
   "source": [
    "+changes ← ⌈ 0.5 × 1 ¯1 ∘.×  outcomes × stakes"
   ]
  },
  {
   "cell_type": "code",
   "execution_count": 11,
   "id": "8281a546",
   "metadata": {
    "pycharm": {
     "name": "#%%\n"
    }
   },
   "outputs": [
    {
     "data": {
      "text/html": "<pre class=\"language-APL\">150 150 150 150 50 150 50 50 50 50\n</pre>"
     },
     "execution_count": 11,
     "metadata": {},
     "output_type": "execute_result"
    }
   ],
   "source": [
    "wealth[pairs] ← wealth[pairs] + changes\n",
    "+wealth"
   ]
  },
  {
   "cell_type": "code",
   "execution_count": 12,
   "id": "f0e476d2",
   "metadata": {
    "pycharm": {
     "name": "#%%\n"
    }
   },
   "outputs": [
    {
     "data": {
      "text/html": "<pre class=\"language-APL\">1000\n</pre>"
     },
     "execution_count": 12,
     "metadata": {},
     "output_type": "execute_result"
    }
   ],
   "source": [
    "+/wealth"
   ]
  },
  {
   "cell_type": "code",
   "execution_count": 18,
   "id": "b241b46f",
   "metadata": {
    "pycharm": {
     "name": "#%%\n"
    }
   },
   "outputs": [],
   "source": [
    "tax ← { ⍺ ← 0.1 ⋄ revenue ← ⍺ × ⍵ ⋄ wealth ← ⍵ - revenue ⋄ ⌈ wealth + revenue ÷ ⍴⍵ }"
   ]
  },
  {
   "cell_type": "code",
   "execution_count": 19,
   "outputs": [
    {
     "data": {
      "text/html": "<pre class=\"language-APL\">150 150 150 150 50 150 50 50 50 50\n</pre>"
     },
     "execution_count": 19,
     "metadata": {},
     "output_type": "execute_result"
    }
   ],
   "source": [
    "wealth"
   ],
   "metadata": {
    "collapsed": false,
    "pycharm": {
     "name": "#%%\n"
    }
   }
  },
  {
   "cell_type": "code",
   "execution_count": 20,
   "outputs": [
    {
     "data": {
      "text/html": "<pre class=\"language-APL\">137 137 137 137 46 137 46 46 46 46\n</pre>"
     },
     "execution_count": 20,
     "metadata": {},
     "output_type": "execute_result"
    }
   ],
   "source": [
    "0.1 tax wealth"
   ],
   "metadata": {
    "collapsed": false,
    "pycharm": {
     "name": "#%%\n"
    }
   }
  },
  {
   "cell_type": "code",
   "execution_count": null,
   "outputs": [],
   "source": [],
   "metadata": {
    "collapsed": false,
    "pycharm": {
     "name": "#%%\n"
    }
   }
  }
 ],
 "metadata": {
  "kernelspec": {
   "display_name": "Dyalog APL",
   "language": "apl",
   "name": "dyalog-kernel"
  },
  "language_info": {
   "file_extension": ".apl",
   "mimetype": "text/apl",
   "name": "APL"
  }
 },
 "nbformat": 4,
 "nbformat_minor": 5
}