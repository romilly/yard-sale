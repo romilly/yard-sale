{
 "cells": [
  {
   "cell_type": "markdown",
   "source": [
    "# Why the rich prosper"
   ],
   "metadata": {
    "collapsed": false,
    "pycharm": {
     "name": "#%% md\n"
    }
   }
  },
  {
   "cell_type": "markdown",
   "source": [
    "`The rich get richer while the poor get poorer`\n",
    "\n",
    "Is this always true? Could it be a natural law of economics?\n",
    "\n",
    "I recently came across a fascinating exploration.\n",
    "\n",
    "[This online article](https://pudding.cool/2022/12/yard-sale/) got me started, and [this pdf](https://b9370b48-a70c-49e9-88aa-0f98cc0a5df4.filesusr.com/ugd/cb3c27_bf9072f3634e43a0ac01921af71370bc.pdf) is the paper that has all the details.\n",
    "\n",
    "There's another paper [Is inequality inevitable?](https://www.scientificamerican.com/article/is-inequality-inevitable/) in Scientifc American."
   ],
   "metadata": {
    "collapsed": false,
    "pycharm": {
     "name": "#%% md\n"
    }
   }
  },
  {
   "cell_type": "markdown",
   "source": [],
   "metadata": {
    "collapsed": false,
    "pycharm": {
     "name": "#%% md\n"
    }
   }
  },
  {
   "cell_type": "markdown",
   "source": [
    "It's based on a simple model which is easy to simulate.\n",
    "\n",
    "## Here's the model.\n",
    "\n",
    "Start with a population in which everyone has the same amount of money.\n",
    "\n",
    "In each round of the game, pairs of people, chosen at random from the population, make a simple gamble. Each member of each pair puts money in a pot. The stakes are limited to half the poorer player's money. Each pair tosses a fair coin to select the winner, who then takes the pot.\n",
    "\n",
    "What happens when this game is played over and over, with random pairings each time?\n",
    "\n",
    "Intuition might suggest that the money will remain fairly evenly distributed. After all the odds of winning a round are 50%.\n",
    "\n",
    "That's not what happens, though. PLay a few ronuds and the wealth starts concetrating. Quite quick;y one player copmes to own the vasdt majority of the wealth.\n",
    "\n",
    "## Why the inequality?\n",
    "\n",
    "The cause is simple. Because ppor players have less to play with, they get less when they win that they previously lost. That's explained in more detail in the articles quited above.\n",
    "\n",
    "## Want to try this for yourself?\n",
    "\n",
    "Here's the APL code, with an explanation. You can probably follow it even if you are unfamiliar with APL.\n",
    "\n",
    "You can run the code using the free, zero install [TryAPL](https://tryapl.org/) service.\n",
    "\n",
    "*If you do know APL, you should be aware that the code assumes ⎕io is set to 0. In other words, we're going to count from zero. This simplifies the code.*\n"
   ],
   "metadata": {
    "collapsed": false,
    "pycharm": {
     "name": "#%% md\n"
    }
   }
  },
  {
   "cell_type": "code",
   "execution_count": 13,
   "outputs": [],
   "source": [
    "⎕io ← 0"
   ],
   "metadata": {
    "collapsed": false,
    "pycharm": {
     "name": "#%%\n"
    }
   }
  },
  {
   "cell_type": "markdown",
   "source": [
    "Let's define a function that will simulate a single round"
   ],
   "metadata": {
    "collapsed": false,
    "pycharm": {
     "name": "#%% md\n"
    }
   }
  },
  {
   "cell_type": "code",
   "execution_count": 14,
   "outputs": [],
   "source": [
    " ]dinput\n",
    " simulate_round←{\n",
    " ⍺ ← 0.5\n",
    " wealth ← ⍵\n",
    " size←⍴wealth\n",
    " npairs←size÷2\n",
    " pairs←(2,npairs)⍴size?size\n",
    " stakes←⍺×⌊⌿wealth[pairs]\n",
    " outcomes←¯1 1[?npairs⍴2]\n",
    " changes←1 ¯1∘.×outcomes×stakes\n",
    " wealth[pairs]←wealth[pairs]+changes\n",
    " wealth\n",
    " }"
   ],
   "metadata": {
    "collapsed": false,
    "pycharm": {
     "name": "#%%\n"
    }
   }
  },
  {
   "cell_type": "code",
   "execution_count": 15,
   "outputs": [
    {
     "data": {
      "text/html": "<pre class=\"language-APL\"> 50.00 150.00 150.00 150.00 50.00 50.00 150.00 150.00 50.00 50.00\n</pre>"
     },
     "execution_count": 15,
     "metadata": {},
     "output_type": "execute_result"
    }
   ],
   "source": [
    "2 ⍕ wealth ← simulate_round 10⍴100"
   ],
   "metadata": {
    "collapsed": false,
    "pycharm": {
     "name": "#%%\n"
    }
   }
  },
  {
   "cell_type": "code",
   "execution_count": 16,
   "outputs": [
    {
     "data": {
      "text/html": "<pre class=\"language-APL\">1000\n</pre>"
     },
     "execution_count": 16,
     "metadata": {},
     "output_type": "execute_result"
    }
   ],
   "source": [
    "+/wealth"
   ],
   "metadata": {
    "collapsed": false,
    "pycharm": {
     "name": "#%%\n"
    }
   }
  },
  {
   "cell_type": "code",
   "execution_count": 17,
   "outputs": [
    {
     "data": {
      "text/html": "<pre class=\"language-APL\"> 75.00 75.00 225.00 175.00 25.00 75.00 225.00 75.00 25.00 25.00\n</pre>"
     },
     "execution_count": 17,
     "metadata": {},
     "output_type": "execute_result"
    }
   ],
   "source": [
    "2 ⍕ wealth ← simulate_round wealth"
   ],
   "metadata": {
    "collapsed": false,
    "pycharm": {
     "name": "#%%\n"
    }
   }
  },
  {
   "cell_type": "code",
   "execution_count": 18,
   "outputs": [
    {
     "data": {
      "text/html": "<pre class=\"language-APL\">1000\n</pre>"
     },
     "execution_count": 18,
     "metadata": {},
     "output_type": "execute_result"
    }
   ],
   "source": [
    "+/wealth"
   ],
   "metadata": {
    "collapsed": false,
    "pycharm": {
     "name": "#%%\n"
    }
   }
  },
  {
   "cell_type": "code",
   "execution_count": 19,
   "outputs": [
    {
     "data": {
      "text/html": "<pre class=\"language-APL\"> 16.38 868.72 0.00 0.54 0.00 51.74 0.00 62.48 0.00 0.14\n</pre>"
     },
     "execution_count": 19,
     "metadata": {},
     "output_type": "execute_result"
    }
   ],
   "source": [
    "2 ⍕ wealth ← (simulate_round ⍣ 100) 10⍴100"
   ],
   "metadata": {
    "collapsed": false,
    "pycharm": {
     "name": "#%%\n"
    }
   }
  },
  {
   "cell_type": "code",
   "execution_count": 20,
   "outputs": [
    {
     "data": {
      "text/html": "<pre class=\"language-APL\"> 0.00 0.00 0.00 0.00 994.59 5.41 0.00 0.00 0.00 0.00\n</pre>"
     },
     "execution_count": 20,
     "metadata": {},
     "output_type": "execute_result"
    }
   ],
   "source": [
    "2 ⍕ wealth ← (simulate_round ⍣ 1000) 10⍴100"
   ],
   "metadata": {
    "collapsed": false,
    "pycharm": {
     "name": "#%%\n"
    }
   }
  },
  {
   "cell_type": "code",
   "execution_count": 21,
   "outputs": [],
   "source": [],
   "metadata": {
    "collapsed": false,
    "pycharm": {
     "name": "#%%\n"
    }
   }
  }
 ],
 "metadata": {
  "kernelspec": {
   "display_name": "Dyalog APL",
   "language": "apl",
   "name": "dyalog-kernel"
  },
  "language_info": {
   "file_extension": ".apl",
   "mimetype": "text/apl",
   "name": "APL"
  }
 },
 "nbformat": 4,
 "nbformat_minor": 5
}